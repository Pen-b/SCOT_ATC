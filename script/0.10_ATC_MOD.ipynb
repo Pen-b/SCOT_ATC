{
 "cells": [
  {
   "cell_type": "code",
   "execution_count": 1,
   "metadata": {
    "collapsed": true
   },
   "outputs": [],
   "source": [
    "import os\n",
    "import sys\n",
    "import pandas as pd\n",
    "import numpy as np\n",
    "import xml.etree.cElementTree as ET\n",
    "import matplotlib.pyplot as plt\n",
    "from pandas.tseries.offsets import * # time series\n",
    "%matplotlib inline"
   ]
  },
  {
   "cell_type": "code",
   "execution_count": 2,
   "metadata": {
    "collapsed": false
   },
   "outputs": [],
   "source": [
    "path = 'c:\\\\GITHUB\\\\SCOT_ATC\\\\dat\\\\'"
   ]
  },
  {
   "cell_type": "code",
   "execution_count": 3,
   "metadata": {
    "collapsed": false
   },
   "outputs": [],
   "source": [
    "# element tree of trips (no.xml extension as we are reserving that for loop through tripinfo.xml) at path\n",
    "atcele = ET.parse(path+'sim\\\\base\\\\e1output.xml')\n",
    "atcroot = atcele.getroot()\n",
    "\n",
    "## define empty list\n",
    "atc = []"
   ]
  },
  {
   "cell_type": "code",
   "execution_count": 4,
   "metadata": {
    "collapsed": false
   },
   "outputs": [],
   "source": [
    "## loop through xml finding all attribs and set data type\n",
    "for s in atcroot.findall('interval'):\n",
    "    aid = str(s.get('id'))\n",
    "    sta = float(s.get('begin'))\n",
    "    end = float(s.get('end'))\n",
    "    nv = int(s.get('nVehContrib'))\n",
    "    atc.append([aid,sta,end,nv]); ## append loop to list\n",
    "    \n",
    "atc = pd.DataFrame(atc)## pandas can convert a flat list or 2-d array to DataFrame\n",
    "atc.columns = ['id', 'sta', 'end', 'Mcount'] # rename columns"
   ]
  },
  {
   "cell_type": "code",
   "execution_count": 5,
   "metadata": {
    "collapsed": false
   },
   "outputs": [],
   "source": [
    "# split detector_lane field to 2\n",
    "df = pd.DataFrame(atc['id'].str.split('_',1).tolist(),columns=['detector', 'lane'], index=atc.index)"
   ]
  },
  {
   "cell_type": "code",
   "execution_count": 6,
   "metadata": {
    "collapsed": false
   },
   "outputs": [],
   "source": [
    "# merge DF to one\n",
    "out = df.merge(atc, how='inner', left_index=True, right_index=True)\n",
    "out.drop('id', axis=1, inplace=True)"
   ]
  },
  {
   "cell_type": "code",
   "execution_count": 7,
   "metadata": {
    "collapsed": false
   },
   "outputs": [
    {
     "data": {
      "text/html": [
       "<div>\n",
       "<table border=\"1\" class=\"dataframe\">\n",
       "  <thead>\n",
       "    <tr style=\"text-align: right;\">\n",
       "      <th></th>\n",
       "      <th>sta</th>\n",
       "      <th>end</th>\n",
       "      <th>Mcount</th>\n",
       "    </tr>\n",
       "    <tr>\n",
       "      <th>detector</th>\n",
       "      <th></th>\n",
       "      <th></th>\n",
       "      <th></th>\n",
       "    </tr>\n",
       "  </thead>\n",
       "  <tbody>\n",
       "    <tr>\n",
       "      <th>108502</th>\n",
       "      <td>561600.0</td>\n",
       "      <td>649402.0</td>\n",
       "      <td>195</td>\n",
       "    </tr>\n",
       "    <tr>\n",
       "      <th>108690</th>\n",
       "      <td>561600.0</td>\n",
       "      <td>649402.0</td>\n",
       "      <td>547</td>\n",
       "    </tr>\n",
       "  </tbody>\n",
       "</table>\n",
       "</div>"
      ],
      "text/plain": [
       "               sta       end  Mcount\n",
       "detector                            \n",
       "108502    561600.0  649402.0     195\n",
       "108690    561600.0  649402.0     547"
      ]
     },
     "execution_count": 7,
     "metadata": {},
     "output_type": "execute_result"
    }
   ],
   "source": [
    "mod = out.groupby(by='detector', axis=0).sum()\n",
    "mod[:2]"
   ]
  },
  {
   "cell_type": "markdown",
   "metadata": {},
   "source": [
    "### Read ATC data"
   ]
  },
  {
   "cell_type": "code",
   "execution_count": 8,
   "metadata": {
    "collapsed": false
   },
   "outputs": [
    {
     "data": {
      "text/plain": [
       "['108502.csv', '108690.csv']"
      ]
     },
     "execution_count": 8,
     "metadata": {},
     "output_type": "execute_result"
    }
   ],
   "source": [
    "# list files\n",
    "cs = os.listdir(path+'atc')\n",
    "cs = cs[:-1]\n",
    "cs[:2]"
   ]
  },
  {
   "cell_type": "code",
   "execution_count": 9,
   "metadata": {
    "collapsed": false
   },
   "outputs": [],
   "source": [
    "ids = [x.split('.')[0] for x in cs]"
   ]
  },
  {
   "cell_type": "code",
   "execution_count": 10,
   "metadata": {
    "collapsed": false
   },
   "outputs": [
    {
     "data": {
      "text/html": [
       "<div>\n",
       "<table border=\"1\" class=\"dataframe\">\n",
       "  <thead>\n",
       "    <tr style=\"text-align: right;\">\n",
       "      <th></th>\n",
       "      <th>Avg</th>\n",
       "      <th>Std</th>\n",
       "    </tr>\n",
       "  </thead>\n",
       "  <tbody>\n",
       "    <tr>\n",
       "      <th>108502</th>\n",
       "      <td>NaN</td>\n",
       "      <td>NaN</td>\n",
       "    </tr>\n",
       "    <tr>\n",
       "      <th>108690</th>\n",
       "      <td>NaN</td>\n",
       "      <td>NaN</td>\n",
       "    </tr>\n",
       "  </tbody>\n",
       "</table>\n",
       "</div>"
      ],
      "text/plain": [
       "        Avg  Std\n",
       "108502  NaN  NaN\n",
       "108690  NaN  NaN"
      ]
     },
     "execution_count": 10,
     "metadata": {},
     "output_type": "execute_result"
    }
   ],
   "source": [
    "ATC_C = pd.DataFrame(index=ids, columns=['Avg', 'Std'])\n",
    "ATC_C[:2]"
   ]
  },
  {
   "cell_type": "code",
   "execution_count": 11,
   "metadata": {
    "collapsed": true
   },
   "outputs": [],
   "source": [
    "def ATC_DF(file_name, atc_id):\n",
    "    global ATC_C\n",
    "    # read DF\n",
    "    df = pd.read_csv(path+'atc\\\\'+file_name, header=0, sep=',', parse_dates={\"DTime\" : [4,5]})\n",
    "    df.DTime = pd.to_datetime(df['DTime'], format='%d%b%Y %H:%M')\n",
    "    df.set_index('DTime', inplace=True)\n",
    "    df = df.asfreq('1H', method=None)\n",
    "    \n",
    "    # drop cols if unamed and list cols with ATC data (CC)\n",
    "    ccols = []\n",
    "    for c in df.columns:\n",
    "        if \"Unname\" in c:\n",
    "            df.drop(c, axis=1, inplace=True)\n",
    "        if \"CC\" in c:\n",
    "            ccols.append(c)\n",
    "        \n",
    "    # subset\n",
    "    df['Sum'] = df[ccols].sum(axis=1)\n",
    "    df = df['Sum']\n",
    "\n",
    "    # AM hours only\n",
    "    df = df[(df.index.hour >= 4) & (df.index.hour <= 10)]\n",
    "    # AM hours as 1 days\n",
    "    df = df.resample('1d', how='sum')\n",
    "    # AM weekdays only\n",
    "    df = df.asfreq(BDay())\n",
    "        \n",
    "    ATC_C['Avg'].ix[atc_id] = df.mean()\n",
    "    ATC_C['Std'].ix[atc_id] = df.std()\n",
    "    return ATC_C"
   ]
  },
  {
   "cell_type": "code",
   "execution_count": 12,
   "metadata": {
    "collapsed": false
   },
   "outputs": [
    {
     "name": "stderr",
     "output_type": "stream",
     "text": [
      "c:\\Anaconda2\\lib\\site-packages\\ipykernel\\__main__.py:24: FutureWarning: how in .resample() is deprecated\n",
      "the new syntax is .resample(...).sum()\n"
     ]
    }
   ],
   "source": [
    "for fn,fid in zip(cs, ids):\n",
    "    #print fid\n",
    "    ATC_DF(fn, fid)"
   ]
  },
  {
   "cell_type": "markdown",
   "metadata": {},
   "source": [
    "### Merge"
   ]
  },
  {
   "cell_type": "code",
   "execution_count": 13,
   "metadata": {
    "collapsed": false
   },
   "outputs": [
    {
     "data": {
      "text/html": [
       "<div>\n",
       "<table border=\"1\" class=\"dataframe\">\n",
       "  <thead>\n",
       "    <tr style=\"text-align: right;\">\n",
       "      <th></th>\n",
       "      <th>sta</th>\n",
       "      <th>end</th>\n",
       "      <th>Mcount</th>\n",
       "    </tr>\n",
       "    <tr>\n",
       "      <th>detector</th>\n",
       "      <th></th>\n",
       "      <th></th>\n",
       "      <th></th>\n",
       "    </tr>\n",
       "  </thead>\n",
       "  <tbody>\n",
       "    <tr>\n",
       "      <th>108502</th>\n",
       "      <td>561600.0</td>\n",
       "      <td>649402.0</td>\n",
       "      <td>195</td>\n",
       "    </tr>\n",
       "    <tr>\n",
       "      <th>108690</th>\n",
       "      <td>561600.0</td>\n",
       "      <td>649402.0</td>\n",
       "      <td>547</td>\n",
       "    </tr>\n",
       "  </tbody>\n",
       "</table>\n",
       "</div>"
      ],
      "text/plain": [
       "               sta       end  Mcount\n",
       "detector                            \n",
       "108502    561600.0  649402.0     195\n",
       "108690    561600.0  649402.0     547"
      ]
     },
     "execution_count": 13,
     "metadata": {},
     "output_type": "execute_result"
    }
   ],
   "source": [
    "mod[:2]"
   ]
  },
  {
   "cell_type": "code",
   "execution_count": 14,
   "metadata": {
    "collapsed": false
   },
   "outputs": [
    {
     "data": {
      "text/html": [
       "<div>\n",
       "<table border=\"1\" class=\"dataframe\">\n",
       "  <thead>\n",
       "    <tr style=\"text-align: right;\">\n",
       "      <th></th>\n",
       "      <th>Avg</th>\n",
       "      <th>Std</th>\n",
       "    </tr>\n",
       "  </thead>\n",
       "  <tbody>\n",
       "    <tr>\n",
       "      <th>108502</th>\n",
       "      <td>497.473</td>\n",
       "      <td>292.359</td>\n",
       "    </tr>\n",
       "    <tr>\n",
       "      <th>108690</th>\n",
       "      <td>1283.1</td>\n",
       "      <td>459.68</td>\n",
       "    </tr>\n",
       "  </tbody>\n",
       "</table>\n",
       "</div>"
      ],
      "text/plain": [
       "            Avg      Std\n",
       "108502  497.473  292.359\n",
       "108690   1283.1   459.68"
      ]
     },
     "execution_count": 14,
     "metadata": {},
     "output_type": "execute_result"
    }
   ],
   "source": [
    "ATC_C[:2]"
   ]
  },
  {
   "cell_type": "code",
   "execution_count": 16,
   "metadata": {
    "collapsed": false
   },
   "outputs": [
    {
     "data": {
      "text/html": [
       "<div>\n",
       "<table border=\"1\" class=\"dataframe\">\n",
       "  <thead>\n",
       "    <tr style=\"text-align: right;\">\n",
       "      <th></th>\n",
       "      <th>sta</th>\n",
       "      <th>end</th>\n",
       "      <th>Mcount</th>\n",
       "      <th>Avg</th>\n",
       "      <th>Std</th>\n",
       "      <th>Mcnorm</th>\n",
       "      <th>Anorm</th>\n",
       "      <th>dif</th>\n",
       "      <th>SQdif</th>\n",
       "      <th>Ndif</th>\n",
       "      <th>SQNdif</th>\n",
       "    </tr>\n",
       "  </thead>\n",
       "  <tbody>\n",
       "    <tr>\n",
       "      <th>108502</th>\n",
       "      <td>561600.0</td>\n",
       "      <td>649402.0</td>\n",
       "      <td>195</td>\n",
       "      <td>497.473</td>\n",
       "      <td>292.359</td>\n",
       "      <td>0.013848</td>\n",
       "      <td>0.0465712</td>\n",
       "      <td>302.473</td>\n",
       "      <td>91489.7</td>\n",
       "      <td>0.0327234</td>\n",
       "      <td>0.00107082</td>\n",
       "    </tr>\n",
       "    <tr>\n",
       "      <th>108690</th>\n",
       "      <td>561600.0</td>\n",
       "      <td>649402.0</td>\n",
       "      <td>547</td>\n",
       "      <td>1283.1</td>\n",
       "      <td>459.68</td>\n",
       "      <td>0.051929</td>\n",
       "      <td>0.131565</td>\n",
       "      <td>736.096</td>\n",
       "      <td>541838</td>\n",
       "      <td>0.0796355</td>\n",
       "      <td>0.0063418</td>\n",
       "    </tr>\n",
       "  </tbody>\n",
       "</table>\n",
       "</div>"
      ],
      "text/plain": [
       "             sta       end  Mcount      Avg      Std    Mcnorm      Anorm  \\\n",
       "108502  561600.0  649402.0     195  497.473  292.359  0.013848  0.0465712   \n",
       "108690  561600.0  649402.0     547   1283.1   459.68  0.051929   0.131565   \n",
       "\n",
       "            dif    SQdif       Ndif      SQNdif  \n",
       "108502  302.473  91489.7  0.0327234  0.00107082  \n",
       "108690  736.096   541838  0.0796355   0.0063418  "
      ]
     },
     "execution_count": 16,
     "metadata": {},
     "output_type": "execute_result"
    }
   ],
   "source": [
    "comp = mod.merge(ATC_C, how='inner', left_index=True, right_index=True)\n",
    "mn, mx = comp.ix[:,'Mcount':'Avg'].min()[0], comp.ix[:,'Mcount':'Avg'].max()[1] # get min,max for nomalisation\n",
    "comp['Mcnorm'] = (comp['Mcount'] - mn) / (mx - mn) # normed values\n",
    "comp['Anorm'] = (comp['Avg'] - mn) / (mx - mn) # normed values\n",
    "comp['dif'] = comp['Avg'] - comp['Mcount'] # compute differences\n",
    "comp['SQdif'] = np.square(comp['dif']) # compute sq difs\n",
    "comp['Ndif'] = comp['Anorm'] - comp['Mcnorm'] # compute differences\n",
    "comp['SQNdif'] = np.square(comp['Ndif']) # compute sq difs\n",
    "comp[:2]"
   ]
  },
  {
   "cell_type": "code",
   "execution_count": 17,
   "metadata": {
    "collapsed": false
   },
   "outputs": [
    {
     "data": {
      "text/plain": [
       "0.12113544593437915"
      ]
     },
     "execution_count": 17,
     "metadata": {},
     "output_type": "execute_result"
    }
   ],
   "source": [
    "RMSE = np.sqrt(comp['SQNdif'].sum() / len(comp))\n",
    "RMSE"
   ]
  },
  {
   "cell_type": "code",
   "execution_count": 18,
   "metadata": {
    "collapsed": false
   },
   "outputs": [
    {
     "data": {
      "text/plain": [
       "(35, 35)"
      ]
     },
     "execution_count": 18,
     "metadata": {},
     "output_type": "execute_result"
    }
   ],
   "source": [
    "x = range(1, 36)\n",
    "len(x), len(comp['Mcnorm'])"
   ]
  },
  {
   "cell_type": "code",
   "execution_count": 24,
   "metadata": {
    "collapsed": false
   },
   "outputs": [
    {
     "data": {
      "image/png": "[encoded data removed]",
      "text/plain": [
       "<matplotlib.figure.Figure at 0xb0674e0>"
      ]
     },
     "metadata": {},
     "output_type": "display_data"
    }
   ],
   "source": [
    "fig = plt.figure(figsize=(6,4))\n",
    "ax1 = plt.subplot(111)\n",
    "\n",
    "ax1.bar(x, comp['Anorm'], color='black', align='center', alpha=0.7, label='ATC')\n",
    "ax1.plot(x, comp['Mcnorm'], color='red', marker='.', markersize=9, linestyle='-', linewidth=0.8, label='Model')\n",
    "ax1.set_xticks(x);\n",
    "ax1.set_xticklabels(ids, rotation=90);\n",
    "ax1.set_xlim(0,36)\n",
    "ax1.set_ylabel('Traffic counts norm', fontsize=14)\n",
    "ax1.set_xlabel('ATC site ref.', fontsize=14)\n",
    "ax1.text(1,0.85, '$RMSE$ = %.3f' %RMSE, fontsize = 15, bbox=dict(facecolor='grey', alpha=0.3))\n",
    "\n",
    "ax1.legend()\n",
    "fig.tight_layout()\n",
    "fig.savefig('c://GITHUB//SCOT_ATC//RMSE_base.png', dpi=400)"
   ]
  },
  {
   "cell_type": "code",
   "execution_count": null,
   "metadata": {
    "collapsed": true
   },
   "outputs": [],
   "source": []
  }
 ],
 "metadata": {
  "kernelspec": {
   "display_name": "Python 2",
   "language": "python",
   "name": "python2"
  },
  "language_info": {
   "codemirror_mode": {
    "name": "ipython",
    "version": 2
   },
   "file_extension": ".py",
   "mimetype": "text/x-python",
   "name": "python",
   "nbconvert_exporter": "python",
   "pygments_lexer": "ipython2",
   "version": "2.7.12"
  }
 },
 "nbformat": 4,
 "nbformat_minor": 0
}
