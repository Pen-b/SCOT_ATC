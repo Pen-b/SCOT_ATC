{
 "cells": [
  {
   "cell_type": "code",
   "execution_count": 1,
   "metadata": {
    "collapsed": true
   },
   "outputs": [],
   "source": [
    "import os\n",
    "import sys\n",
    "import numpy as np\n",
    "import pandas as pd\n",
    "from pandas.tseries.offsets import * # time series\n",
    "import scipy.stats as stats\n",
    "import xml.etree.cElementTree as ET\n",
    "import matplotlib.pyplot as plt\n",
    "%matplotlib inline"
   ]
  },
  {
   "cell_type": "code",
   "execution_count": 2,
   "metadata": {
    "collapsed": false
   },
   "outputs": [],
   "source": [
    "path = 'c:\\\\GITHUB\\\\SCOT_ATC\\\\dat\\\\'"
   ]
  },
  {
   "cell_type": "code",
   "execution_count": 3,
   "metadata": {
    "collapsed": false
   },
   "outputs": [
    {
     "data": {
      "text/plain": [
       "['atc', 'sim']"
      ]
     },
     "execution_count": 3,
     "metadata": {},
     "output_type": "execute_result"
    }
   ],
   "source": [
    "os.listdir(path)[:2]"
   ]
  },
  {
   "cell_type": "code",
   "execution_count": 4,
   "metadata": {
    "collapsed": false
   },
   "outputs": [],
   "source": [
    "df = pd.read_csv(path+'atc\\\\'+'ATC06001.csv', header=0, sep=',', parse_dates={\"DTime\" : [4,5]})\n",
    "df.DTime = pd.to_datetime(df['DTime'], format='%d%b%Y %H:%M')\n",
    "df.set_index('DTime', inplace=True)\n",
    "df = df.asfreq('1H', method=None)"
   ]
  },
  {
   "cell_type": "code",
   "execution_count": 5,
   "metadata": {
    "collapsed": false
   },
   "outputs": [],
   "source": [
    "for c in df.columns:\n",
    "    if \"Unname\" in c:\n",
    "        df.drop(c, axis=1, inplace=True)"
   ]
  },
  {
   "cell_type": "code",
   "execution_count": 6,
   "metadata": {
    "collapsed": false
   },
   "outputs": [
    {
     "data": {
      "text/html": [
       "<div>\n",
       "<table border=\"1\" class=\"dataframe\">\n",
       "  <thead>\n",
       "    <tr style=\"text-align: right;\">\n",
       "      <th></th>\n",
       "      <th>SiteCode</th>\n",
       "      <th>Route</th>\n",
       "      <th>LinkCode</th>\n",
       "      <th>Magent</th>\n",
       "      <th>Ehour</th>\n",
       "      <th>CCA</th>\n",
       "      <th>CCA.1</th>\n",
       "      <th>Sum</th>\n",
       "    </tr>\n",
       "    <tr>\n",
       "      <th>DTime</th>\n",
       "      <th></th>\n",
       "      <th></th>\n",
       "      <th></th>\n",
       "      <th></th>\n",
       "      <th></th>\n",
       "      <th></th>\n",
       "      <th></th>\n",
       "      <th></th>\n",
       "    </tr>\n",
       "  </thead>\n",
       "  <tbody>\n",
       "    <tr>\n",
       "      <th>2004-01-01 00:00:00</th>\n",
       "      <td>ATC06001</td>\n",
       "      <td>A85</td>\n",
       "      <td>163020</td>\n",
       "      <td>NW</td>\n",
       "      <td>01:00</td>\n",
       "      <td>2</td>\n",
       "      <td>4</td>\n",
       "      <td>6</td>\n",
       "    </tr>\n",
       "    <tr>\n",
       "      <th>2004-01-01 01:00:00</th>\n",
       "      <td>ATC06001</td>\n",
       "      <td>A85</td>\n",
       "      <td>163020</td>\n",
       "      <td>NW</td>\n",
       "      <td>02:00</td>\n",
       "      <td>8</td>\n",
       "      <td>4</td>\n",
       "      <td>12</td>\n",
       "    </tr>\n",
       "  </tbody>\n",
       "</table>\n",
       "</div>"
      ],
      "text/plain": [
       "                     SiteCode Route  LinkCode Magent  Ehour  CCA  CCA.1  Sum\n",
       "DTime                                                                       \n",
       "2004-01-01 00:00:00  ATC06001   A85    163020     NW  01:00    2      4    6\n",
       "2004-01-01 01:00:00  ATC06001   A85    163020     NW  02:00    8      4   12"
      ]
     },
     "execution_count": 6,
     "metadata": {},
     "output_type": "execute_result"
    }
   ],
   "source": [
    "df['Sum'] = df.CCA + df['CCA.1']\n",
    "#df.CCA = pd.to_numeric(df.CCA, errors='coerce')\n",
    "df[:2]"
   ]
  },
  {
   "cell_type": "code",
   "execution_count": 7,
   "metadata": {
    "collapsed": false
   },
   "outputs": [],
   "source": [
    "# AM hours only\n",
    "am = df[(df.index.hour >= 4) & (df.index.hour <= 10)]"
   ]
  },
  {
   "cell_type": "code",
   "execution_count": 8,
   "metadata": {
    "collapsed": true
   },
   "outputs": [],
   "source": [
    "# AM days\n",
    "amD = am.resample('1d', how='sum')"
   ]
  },
  {
   "cell_type": "code",
   "execution_count": 9,
   "metadata": {
    "collapsed": false
   },
   "outputs": [
    {
     "data": {
      "text/plain": [
       "2958"
      ]
     },
     "execution_count": 9,
     "metadata": {},
     "output_type": "execute_result"
    }
   ],
   "source": [
    "# AM weekdays only\n",
    "amWD = amD.asfreq(BDay())\n",
    "#amWD = amD\n",
    "len(amWD)"
   ]
  },
  {
   "cell_type": "code",
   "execution_count": 10,
   "metadata": {
    "collapsed": false
   },
   "outputs": [],
   "source": [
    "# event 17 dates \n",
    "E17 = amWD.ix['2007-10-28':'2007-11-09']"
   ]
  },
  {
   "cell_type": "code",
   "execution_count": 11,
   "metadata": {
    "collapsed": false
   },
   "outputs": [],
   "source": [
    "# long term history for thos months excl event \n",
    "sep = amWD.Sum[(amWD.index.month >= 10) & (amWD.index.month <= 11)].dropna()\n",
    "sep.ix['2007-10-28':'2007-11-09'] = np.nan"
   ]
  },
  {
   "cell_type": "code",
   "execution_count": 12,
   "metadata": {
    "collapsed": false
   },
   "outputs": [
    {
     "data": {
      "image/png": "[encoded data removed]",
      "text/plain": [
       "<matplotlib.figure.Figure at 0xe02cf98>"
      ]
     },
     "metadata": {},
     "output_type": "display_data"
    }
   ],
   "source": [
    "mu, si = stats.norm.fit(sep.dropna());\n",
    "x = np.linspace(0, sep.dropna().max() * 1.5);\n",
    "p = stats.norm.pdf(x, mu, si);\n",
    "plt.plot(x,p);\n",
    "\n",
    "for ind, it in enumerate(x):\n",
    "    if it >= E17.Sum.mean():\n",
    "        indx = ind\n",
    "        break\n",
    "plt.fill_between(x[indx:],p[indx:], color='red')\n",
    "plt.text(1000, 0.003, 'cdf = %.2f' %stats.norm.cdf(E17.Sum.mean(), mu, si))\n",
    "\n",
    "plt.twinx();\n",
    "plt.hist(sep.dropna(), alpha=0.3);\n"
   ]
  },
  {
   "cell_type": "code",
   "execution_count": 13,
   "metadata": {
    "collapsed": true
   },
   "outputs": [],
   "source": [
    "a = [x for x in E17.Sum]\n",
    "b = [x for x in sep.dropna()]"
   ]
  },
  {
   "cell_type": "code",
   "execution_count": 14,
   "metadata": {
    "collapsed": false
   },
   "outputs": [],
   "source": [
    "c = np.array([b,a])"
   ]
  },
  {
   "cell_type": "code",
   "execution_count": 15,
   "metadata": {
    "collapsed": false
   },
   "outputs": [
    {
     "data": {
      "text/plain": [
       "(0, 3)"
      ]
     },
     "execution_count": 15,
     "metadata": {},
     "output_type": "execute_result"
    },
    {
     "data": {
      "image/png": "[encoded data removed]",
      "text/plain": [
       "<matplotlib.figure.Figure at 0xe02c160>"
      ]
     },
     "metadata": {},
     "output_type": "display_data"
    }
   ],
   "source": [
    "p = 1\n",
    "for i in c:\n",
    "    plt.boxplot(i, positions=[p])\n",
    "    p += 1\n",
    "\n",
    "plt.xlim(0,3)"
   ]
  }
 ],
 "metadata": {
  "kernelspec": {
   "display_name": "Python 2",
   "language": "python",
   "name": "python2"
  },
  "language_info": {
   "codemirror_mode": {
    "name": "ipython",
    "version": 2
   },
   "file_extension": ".py",
   "mimetype": "text/x-python",
   "name": "python",
   "nbconvert_exporter": "python",
   "pygments_lexer": "ipython2",
   "version": "2.7.11"
  }
 },
 "nbformat": 4,
 "nbformat_minor": 0
}
